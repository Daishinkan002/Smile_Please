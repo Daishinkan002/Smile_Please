{
  "nbformat": 4,
  "nbformat_minor": 0,
  "metadata": {
    "colab": {
      "name": "smile_detection.ipynb",
      "provenance": []
    },
    "kernelspec": {
      "name": "python3",
      "display_name": "Python 3"
    },
    "accelerator": "GPU"
  },
  "cells": [
    {
      "cell_type": "code",
      "metadata": {
        "id": "dbdaRS1j_Pb9",
        "colab_type": "code",
        "colab": {
          "base_uri": "https://localhost:8080/",
          "height": 34
        },
        "outputId": "e148fb67-6316-4284-9aec-453085696fd9"
      },
      "source": [
        "from zipfile import ZipFile\n",
        "filename = \"dataset.zip\"\n",
        "\n",
        "with ZipFile(filename, 'r') as zip:\n",
        "  zip.extractall()\n"
      ],
      "execution_count": 2,
      "outputs": [
        {
          "output_type": "stream",
          "text": [
            "Done\n"
          ],
          "name": "stdout"
        }
      ]
    },
    {
      "cell_type": "code",
      "metadata": {
        "id": "9YZ3MGUXDgrM",
        "colab_type": "code",
        "colab": {
          "base_uri": "https://localhost:8080/",
          "height": 69
        },
        "outputId": "e2573c6b-7f42-4c6a-9625-dd1d2c5a6f50"
      },
      "source": [
        "import numpy as np\n",
        "import os\n",
        "import imutils\n",
        "import cv2\n",
        "from imutils import paths\n",
        "from keras.preprocessing.image import img_to_array\n",
        "from sklearn.preprocessing import LabelEncoder\n",
        "from keras.utils import np_utils\n",
        "\n",
        "\n",
        "base_dir = \"dataset\"\n",
        "data = []\n",
        "labels = []\n",
        "max_negatives = 4000\n",
        "total_negatives = 0\n",
        "\n",
        "for image_folder in sorted(list(paths.list_images(base_dir))):\n",
        "    image = cv2.imread(image_folder)\n",
        "    image = cv2.cvtColor(image, cv2.COLOR_BGR2GRAY)\n",
        "    #print(\"Type(image) = \", type(image))\n",
        "    image = img_to_array(image)\n",
        "    #print(\"Entry\")\n",
        "    #print(image_folder)\n",
        "    #print(image_folder.split('/')[1])\n",
        "    corresponding_label = image_folder.split('/')[1]\n",
        "    if(corresponding_label == \"positives7\"):\n",
        "        data.append(image/255.0)\n",
        "        labels.append(\"smile\")\n",
        "    elif corresponding_label == \"negatives7\" and total_negatives < max_negatives:\n",
        "        total_negatives += 1\n",
        "        data.append(image/255.0)\n",
        "        labels.append(\"no_smile\")\n",
        "print(total_negatives)\n",
        "data = np.array(data)\n",
        "labels = np.array(labels)\n",
        "lab_enc = LabelEncoder().fit(labels)\n",
        "labels = np_utils.to_categorical(lab_enc.transform(labels), 2)\n"
      ],
      "execution_count": 3,
      "outputs": [
        {
          "output_type": "stream",
          "text": [
            "Using TensorFlow backend.\n"
          ],
          "name": "stderr"
        },
        {
          "output_type": "stream",
          "text": [
            "4000\n",
            "Done\n"
          ],
          "name": "stdout"
        }
      ]
    },
    {
      "cell_type": "code",
      "metadata": {
        "id": "sPl-eZXRLKNe",
        "colab_type": "code",
        "colab": {
          "base_uri": "https://localhost:8080/",
          "height": 34
        },
        "outputId": "de188aa3-8db1-4281-a455-1f5eba72fd84"
      },
      "source": [
        "from sklearn.model_selection import train_test_split\n",
        "\n",
        "(train_x, test_x, train_y, test_y) = train_test_split(data, labels,\n",
        "    test_size = 0.20, stratify = labels, random_state = 42)\n"
      ],
      "execution_count": 4,
      "outputs": [
        {
          "output_type": "stream",
          "text": [
            "Done\n"
          ],
          "name": "stdout"
        }
      ]
    },
    {
      "cell_type": "code",
      "metadata": {
        "id": "qOKEPgQpLN3P",
        "colab_type": "code",
        "colab": {
          "base_uri": "https://localhost:8080/",
          "height": 34
        },
        "outputId": "0ef7e37f-df90-4e58-cf2d-cb4935f4835d"
      },
      "source": [
        "from keras.models import Sequential\n",
        "from keras.layers.convolutional import Conv2D\n",
        "from keras.layers.convolutional import MaxPooling2D\n",
        "from keras.layers.core import Activation\n",
        "from keras.layers.core import Flatten\n",
        "from keras.layers.core import Dense, Dropout\n",
        "\n"
      ],
      "execution_count": 5,
      "outputs": [
        {
          "output_type": "stream",
          "text": [
            "Done\n"
          ],
          "name": "stdout"
        }
      ]
    },
    {
      "cell_type": "code",
      "metadata": {
        "id": "cF3ykpBIM1Uc",
        "colab_type": "code",
        "colab": {
          "base_uri": "https://localhost:8080/",
          "height": 34
        },
        "outputId": "2c617a4c-9ae7-47ff-c80f-d2d58d09595f"
      },
      "source": [
        "model = Sequential()\n",
        "model.add(Conv2D(64, (3, 3), padding = \"same\", activation=\"relu\"))\n",
        "model.add(MaxPooling2D((2, 2), strides = (2, 2)))\n",
        "model.add(Conv2D(128, (5, 5), padding = \"same\", activation=\"relu\"))\n",
        "model.add(MaxPooling2D((2, 2), strides = (2, 2)))\n",
        "model.add(Dropout(0.5))\n",
        "model.add(Flatten())\n",
        "model.add(Dense(512, activation=\"relu\"))\n",
        "model.add(Dense(12, activation=\"relu\"))\n",
        "model.add(Dense(2, activation=\"softmax\"))\n",
        "print(\"Done\")"
      ],
      "execution_count": 6,
      "outputs": [
        {
          "output_type": "stream",
          "text": [
            "Done\n"
          ],
          "name": "stdout"
        }
      ]
    },
    {
      "cell_type": "code",
      "metadata": {
        "id": "TkBMUuteM5LR",
        "colab_type": "code",
        "colab": {}
      },
      "source": [
        "model.compile(optimizer=\"adam\", loss=\"binary_crossentropy\", metrics=[\"accuracy\"])"
      ],
      "execution_count": 7,
      "outputs": []
    },
    {
      "cell_type": "code",
      "metadata": {
        "id": "Np9WCa_iM8MW",
        "colab_type": "code",
        "colab": {
          "base_uri": "https://localhost:8080/",
          "height": 382
        },
        "outputId": "80028d13-8393-405e-aa30-e3bce6b15799"
      },
      "source": [
        "batch_size=64\n",
        "history = model.fit(train_x, train_y, validation_data = (test_x, test_y), batch_size=batch_size, epochs = 10)"
      ],
      "execution_count": 8,
      "outputs": [
        {
          "output_type": "stream",
          "text": [
            "Train on 6152 samples, validate on 1538 samples\n",
            "Epoch 1/10\n",
            "6152/6152 [==============================] - 11s 2ms/step - loss: 0.5716 - accuracy: 0.6905 - val_loss: 0.4407 - val_accuracy: 0.7978\n",
            "Epoch 2/10\n",
            "6152/6152 [==============================] - 3s 484us/step - loss: 0.3803 - accuracy: 0.8331 - val_loss: 0.3252 - val_accuracy: 0.8739\n",
            "Epoch 3/10\n",
            "6152/6152 [==============================] - 3s 486us/step - loss: 0.3407 - accuracy: 0.8566 - val_loss: 0.3002 - val_accuracy: 0.8804\n",
            "Epoch 4/10\n",
            "6152/6152 [==============================] - 3s 484us/step - loss: 0.3268 - accuracy: 0.8633 - val_loss: 0.2884 - val_accuracy: 0.8804\n",
            "Epoch 5/10\n",
            "6152/6152 [==============================] - 3s 486us/step - loss: 0.3043 - accuracy: 0.8805 - val_loss: 0.3026 - val_accuracy: 0.8745\n",
            "Epoch 6/10\n",
            "6152/6152 [==============================] - 3s 489us/step - loss: 0.2963 - accuracy: 0.8784 - val_loss: 0.2861 - val_accuracy: 0.8830\n",
            "Epoch 7/10\n",
            "6152/6152 [==============================] - 3s 498us/step - loss: 0.2809 - accuracy: 0.8890 - val_loss: 0.2721 - val_accuracy: 0.8901\n",
            "Epoch 8/10\n",
            "6152/6152 [==============================] - 3s 493us/step - loss: 0.2619 - accuracy: 0.8929 - val_loss: 0.2972 - val_accuracy: 0.8797\n",
            "Epoch 9/10\n",
            "6152/6152 [==============================] - 3s 495us/step - loss: 0.2687 - accuracy: 0.8916 - val_loss: 0.2725 - val_accuracy: 0.8934\n",
            "Epoch 10/10\n",
            "6152/6152 [==============================] - 3s 492us/step - loss: 0.2501 - accuracy: 0.8974 - val_loss: 0.2601 - val_accuracy: 0.8921\n"
          ],
          "name": "stdout"
        }
      ]
    },
    {
      "cell_type": "code",
      "metadata": {
        "id": "pOnJtROFNBcp",
        "colab_type": "code",
        "colab": {
          "base_uri": "https://localhost:8080/",
          "height": 191
        },
        "outputId": "eedeab12-04e3-4cc3-d94b-656dc3cf59e3"
      },
      "source": [
        "from sklearn.metrics import classification_report\n",
        "\n",
        "print(\"[INFO] training network...\")\n",
        "predictions = model.predict(test_x, batch_size = 64)\n",
        "print(classification_report(test_y.argmax(axis = 1),\n",
        "    predictions.argmax(axis = 1), target_names = lab_enc.classes_))\n"
      ],
      "execution_count": 9,
      "outputs": [
        {
          "output_type": "stream",
          "text": [
            "[INFO] training network...\n",
            "              precision    recall  f1-score   support\n",
            "\n",
            "    no_smile       0.89      0.90      0.90       800\n",
            "       smile       0.89      0.88      0.89       738\n",
            "\n",
            "    accuracy                           0.89      1538\n",
            "   macro avg       0.89      0.89      0.89      1538\n",
            "weighted avg       0.89      0.89      0.89      1538\n",
            "\n"
          ],
          "name": "stdout"
        }
      ]
    },
    {
      "cell_type": "code",
      "metadata": {
        "id": "kNgknD07NhWp",
        "colab_type": "code",
        "colab": {
          "base_uri": "https://localhost:8080/",
          "height": 299
        },
        "outputId": "7c72abdb-0a99-4faf-f235-4998befe0dc4"
      },
      "source": [
        "import matplotlib.pyplot as plt\n",
        "\n",
        "# plot the training + testing loss and accuracy\n",
        "plt.style.use(\"ggplot\")\n",
        "plt.figure()\n",
        "plt.plot(np.arange(0, 10), history.history[\"loss\"], label = \"train_loss\")\n",
        "plt.plot(np.arange(0, 10), history.history[\"val_loss\"], label = \"val_loss\")\n",
        "plt.plot(np.arange(0, 10), history.history[\"accuracy\"], label = \"acc\")\n",
        "plt.plot(np.arange(0, 10), history.history[\"val_accuracy\"], label = \"val_acc\")\n",
        "plt.title(\"Training Loss and Accuracy\")\n",
        "plt.xlabel(\"Epoch #\")\n",
        "plt.ylabel(\"Loss/Accuracy\")\n",
        "plt.legend()\n",
        "plt.savefig(\"Curve\")\n",
        "plt.show()"
      ],
      "execution_count": 12,
      "outputs": [
        {
          "output_type": "display_data",
          "data": {
            "image/png": "[encoded data removed]",
            "text/plain": [
              "<Figure size 432x288 with 1 Axes>"
            ]
          },
          "metadata": {
            "tags": []
          }
        }
      ]
    },
    {
      "cell_type": "code",
      "metadata": {
        "id": "BsVdD8eqUM_V",
        "colab_type": "code",
        "colab": {}
      },
      "source": [
        ""
      ],
      "execution_count": 12,
      "outputs": []
    },
    {
      "cell_type": "code",
      "metadata": {
        "id": "DppfiVzrlIOi",
        "colab_type": "code",
        "colab": {}
      },
      "source": [
        "from keras.models import load_model\n",
        "\n",
        "new_model = load_model(\"Output.hdf5\")"
      ],
      "execution_count": 21,
      "outputs": []
    }
  ]
}